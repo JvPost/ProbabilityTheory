{
 "cells": [
  {
   "cell_type": "code",
   "execution_count": 50,
   "metadata": {},
   "outputs": [],
   "source": [
    "import torch\n",
    "import torch.distributions as dist"
   ]
  },
  {
   "cell_type": "code",
   "execution_count": 3,
   "metadata": {},
   "outputs": [],
   "source": [
    "alpha = 8.0\n",
    "beta = 3.0\n",
    "theta_weather = dist.Beta(alpha, beta)"
   ]
  },
  {
   "cell_type": "code",
   "execution_count": 6,
   "metadata": {},
   "outputs": [
    {
     "data": {
      "text/plain": [
       "tensor([0.6638, 0.8155, 0.6948, 0.5302, 0.8552, 0.7077, 0.7643, 0.8191, 0.8337,\n",
       "        0.7786, 0.9179, 0.7498, 0.7728, 0.6522, 0.7050, 0.8562, 0.8229, 0.5990,\n",
       "        0.7188, 0.9116, 0.8400, 0.9202, 0.8037, 0.5354, 0.9273, 0.3358, 0.5753,\n",
       "        0.8385, 0.7798, 0.6647, 0.8577, 0.6951, 0.7182, 0.4728, 0.7450, 0.6778,\n",
       "        0.5424, 0.8952, 0.8649, 0.7822, 0.9163, 0.6816, 0.6268, 0.7612, 0.9119,\n",
       "        0.8229, 0.6165, 0.6016, 0.7754, 0.7218, 0.8578, 0.6158, 0.8554, 0.7572,\n",
       "        0.6222, 0.7559, 0.9124, 0.8370, 0.6450, 0.8103, 0.8196, 0.4808, 0.8211,\n",
       "        0.7467, 0.6060, 0.4877, 0.7891, 0.8684, 0.8463, 0.4652, 0.8683, 0.7338,\n",
       "        0.7117, 0.6617, 0.5608, 0.8681, 0.6712, 0.9066, 0.7457, 0.7402, 0.6458,\n",
       "        0.7086, 0.8937, 0.9434, 0.9817, 0.9150, 0.7452, 0.5280, 0.6565, 0.6727,\n",
       "        0.8167, 0.6741, 0.7616, 0.5998, 0.6984, 0.7400, 0.6241, 0.8038, 0.8794,\n",
       "        0.7793])"
      ]
     },
     "execution_count": 6,
     "metadata": {},
     "output_type": "execute_result"
    }
   ],
   "source": [
    "theta_weather.sample((100,)) "
   ]
  },
  {
   "cell_type": "code",
   "execution_count": 32,
   "metadata": {},
   "outputs": [],
   "source": [
    "probs = theta_weather.sample() # for instance the probability of being nice weither this year.\n",
    "# A beta is used because the probability of weather being nice is different each year.\n",
    "# alpha and beta could for instance be decided by location. i.e. some locations have nicer weahter,\n",
    "# sample from beta will then be higher.\n",
    "weather = dist.Bernoulli(probs=probs) # now we use the beta probability to make a bernoulli"
   ]
  },
  {
   "cell_type": "code",
   "execution_count": 38,
   "metadata": {},
   "outputs": [
    {
     "data": {
      "text/plain": [
       "tensor(0.7726)"
      ]
     },
     "execution_count": 38,
     "metadata": {},
     "output_type": "execute_result"
    }
   ],
   "source": [
    "torch.mean(weather.sample((365,))) # 365 days in a year, each number is the weather that day\n",
    "# a sample of a year\n"
   ]
  },
  {
   "cell_type": "markdown",
   "metadata": {},
   "source": [
    "# Conjugate prior"
   ]
  },
  {
   "cell_type": "code",
   "execution_count": 41,
   "metadata": {},
   "outputs": [],
   "source": [
    "# This is our truth model. We don't know this, \n",
    "# because we can never know the true model.\n",
    "# We just observe the world (data) and update\n",
    "# approximations\n",
    "weather_true = dist.Bernoulli(probs=0.7)"
   ]
  },
  {
   "cell_type": "code",
   "execution_count": 63,
   "metadata": {},
   "outputs": [
    {
     "data": {
      "text/plain": [
       "tensor([1., 1., 1., 0., 1., 1., 1., 1., 0., 0.])"
      ]
     },
     "execution_count": 63,
     "metadata": {},
     "output_type": "execute_result"
    }
   ],
   "source": [
    "N = 10\n",
    "dataset = weather_true.sample((N,))\n",
    "dataset"
   ]
  },
  {
   "cell_type": "code",
   "execution_count": 68,
   "metadata": {},
   "outputs": [],
   "source": [
    "# these values have highest prob at 0.7\n",
    "alpha = 2.0\n",
    "beta = 1.5 \n",
    "alpha_prime = alpha + torch.sum(dataset)\n",
    "beta_prime = beta + N - torch.sum(dataset)"
   ]
  },
  {
   "cell_type": "code",
   "execution_count": 69,
   "metadata": {},
   "outputs": [
    {
     "data": {
      "text/plain": [
       "tensor(9.)"
      ]
     },
     "execution_count": 69,
     "metadata": {},
     "output_type": "execute_result"
    }
   ],
   "source": [
    "alpha_prime"
   ]
  },
  {
   "cell_type": "code",
   "execution_count": 70,
   "metadata": {},
   "outputs": [
    {
     "data": {
      "text/plain": [
       "tensor(4.5000)"
      ]
     },
     "execution_count": 70,
     "metadata": {},
     "output_type": "execute_result"
    }
   ],
   "source": [
    "beta_prime"
   ]
  },
  {
   "cell_type": "code",
   "execution_count": null,
   "metadata": {},
   "outputs": [],
   "source": [
    "# As we increase N, we get a pdf where gets\n",
    "# close and close to the 0.7 we defined as \n",
    "# the probability of bernoulli."
   ]
  }
 ],
 "metadata": {
  "interpreter": {
   "hash": "4d4dce9d7226808f190f2bf308d6fa82873ce04af46d0901c689654b9cd5f0c8"
  },
  "kernelspec": {
   "display_name": "Python 3.9.7 ('pdl')",
   "language": "python",
   "name": "python3"
  },
  "language_info": {
   "codemirror_mode": {
    "name": "ipython",
    "version": 3
   },
   "file_extension": ".py",
   "mimetype": "text/x-python",
   "name": "python",
   "nbconvert_exporter": "python",
   "pygments_lexer": "ipython3",
   "version": "3.9.7"
  },
  "orig_nbformat": 4
 },
 "nbformat": 4,
 "nbformat_minor": 2
}

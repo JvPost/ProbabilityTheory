{
 "cells": [
  {
   "cell_type": "code",
   "execution_count": 94,
   "metadata": {},
   "outputs": [],
   "source": [
    "import torch\n",
    "import torch.distributions as dist\n",
    "import matplotlib.pyplot as plt\n",
    "import numpy as np"
   ]
  },
  {
   "cell_type": "code",
   "execution_count": 95,
   "metadata": {},
   "outputs": [
    {
     "data": {
      "text/plain": [
       "tensor([0., 1., 0., 1., 1., 1., 1., 1., 1., 1.])"
      ]
     },
     "execution_count": 95,
     "metadata": {},
     "output_type": "execute_result"
    }
   ],
   "source": [
    "weather = dist.Bernoulli(probs=0.8)\n",
    "dataset = weather.sample((10,))\n",
    "dataset"
   ]
  },
  {
   "cell_type": "code",
   "execution_count": 96,
   "metadata": {},
   "outputs": [
    {
     "data": {
      "text/plain": [
       "tensor(0.0067)"
      ]
     },
     "execution_count": 96,
     "metadata": {},
     "output_type": "execute_result"
    }
   ],
   "source": [
    "torch.prod(weather.log_prob(dataset).exp_())"
   ]
  },
  {
   "cell_type": "markdown",
   "metadata": {},
   "source": [
    "# MLE"
   ]
  },
  {
   "cell_type": "code",
   "execution_count": 97,
   "metadata": {},
   "outputs": [
    {
     "data": {
      "text/plain": [
       "tensor(0.8005)"
      ]
     },
     "execution_count": 97,
     "metadata": {},
     "output_type": "execute_result"
    }
   ],
   "source": [
    "dataset = weather.sample((1000000,))\n",
    "# MLE for the bernoulli is simply the mean.\n",
    "# We get the log likelihood of the given data\n",
    "# Take the derivate at zero.\n",
    "# This result into the mean.\n",
    "torch.mean(dataset)\n",
    "# The mean here is 0.8 because the probability\n",
    "# of being 1 is 0.8 every time we sample.\n"
   ]
  },
  {
   "cell_type": "markdown",
   "metadata": {},
   "source": [
    "# MLE by Auto Grad"
   ]
  },
  {
   "cell_type": "code",
   "execution_count": 98,
   "metadata": {},
   "outputs": [
    {
     "name": "stdout",
     "output_type": "stream",
     "text": [
      "iteration 0, loss: 69.31, theta: 0.50\n",
      "iteration 10, loss: 48.98, theta: 0.78\n",
      "iteration 20, loss: 48.69, theta: 0.82\n",
      "iteration 30, loss: 48.88, theta: 0.78\n",
      "iteration 40, loss: 48.78, theta: 0.83\n",
      "iteration 50, loss: 48.67, theta: 0.80\n",
      "iteration 60, loss: 48.62, theta: 0.81\n",
      "iteration 70, loss: 48.63, theta: 0.81\n",
      "iteration 80, loss: 48.62, theta: 0.81\n",
      "iteration 90, loss: 48.62, theta: 0.81\n",
      "real: 0.81, predicted: 0.81\n"
     ]
    }
   ],
   "source": [
    "dataset = weather.sample((100,))\n",
    "theta = torch.tensor(0.5, requires_grad=True)\n",
    "\n",
    "optimizer = torch.optim.Adam(params=[theta], lr=0.1)\n",
    "for i in range(100):\n",
    "    # This the value we're minimizing. \n",
    "    # What we're doing here is:\n",
    "    # 1. Make a distribution with the value we're optimizing (theta)\n",
    "    to_learn = dist.Bernoulli(probs=theta)\n",
    "    # 2. Calculate how likely it is we get the dataset given with\n",
    "    # theta as a parameter for our model using negative log-likelihood\n",
    "    loss = -torch.sum(to_learn.log_prob(dataset)) \n",
    "    # 3. Use autograd to optimize theta\n",
    "    loss.backward()\n",
    "    if i % 10 == 0:\n",
    "        print(f\"iteration {i}, loss: {loss.item():0.2f}, theta: {theta.item():0.2f}\")\n",
    "    optimizer.step() # optimize theta\n",
    "    optimizer.zero_grad() # set gradients to zero\n",
    "    \n",
    "mean = torch.mean(dataset)\n",
    "print(f\"real: {mean:0.2f}, predicted: {theta.item():0.2f}\")"
   ]
  },
  {
   "cell_type": "markdown",
   "metadata": {},
   "source": [
    "# Posterior for the Bernoulli using the Conjugate Prior (Beta)"
   ]
  },
  {
   "cell_type": "markdown",
   "metadata": {},
   "source": [
    "## Beta"
   ]
  },
  {
   "cell_type": "code",
   "execution_count": 99,
   "metadata": {},
   "outputs": [],
   "source": [
    "alpha = 8.0\n",
    "beta = 3.0\n",
    "theta_weather = dist.Beta(alpha, beta)\n",
    "sample = theta_weather.sample((1000000,))"
   ]
  },
  {
   "cell_type": "code",
   "execution_count": 100,
   "metadata": {},
   "outputs": [
    {
     "data": {
      "image/png": "[encoded data removed]",
      "text/plain": [
       "<Figure size 432x288 with 1 Axes>"
      ]
     },
     "metadata": {
      "needs_background": "light"
     },
     "output_type": "display_data"
    }
   ],
   "source": [
    "x = sample.detach().numpy()\n",
    "fig = plt.figure()\n",
    "ax = fig.add_subplot(111)\n",
    "n, bins, rectangles = ax.hist(x, 100, density=True)\n",
    "fig.canvas.draw()\n",
    "plt.show()"
   ]
  },
  {
   "cell_type": "code",
   "execution_count": 101,
   "metadata": {},
   "outputs": [
    {
     "data": {
      "text/plain": [
       "tensor(0.8904)"
      ]
     },
     "execution_count": 101,
     "metadata": {},
     "output_type": "execute_result"
    }
   ],
   "source": [
    "probs = theta_weather.sample() # for instance the probability of being nice weither this year.\n",
    "# A beta is used because the probability of weather being nice is different each year.\n",
    "# alpha and beta could for instance be decided by location. i.e. some locations have nicer weahter,\n",
    "# sample from beta will then be higher.\n",
    "weather = dist.Bernoulli(probs=probs) # now we use the beta probability to make a bernoulli\n",
    "torch.mean(weather.sample((365,))) # 365 days in a year, each number is the weather that day\n",
    "# a sample of a year\n"
   ]
  },
  {
   "cell_type": "markdown",
   "metadata": {},
   "source": [
    "## Beta as conjugate prior to bernoulli"
   ]
  },
  {
   "cell_type": "code",
   "execution_count": 102,
   "metadata": {},
   "outputs": [],
   "source": [
    "# This is our truth model. We don't know this, \n",
    "# because we can never know the true model.\n",
    "# We just observe the world (data) and update\n",
    "# approximations\n",
    "weather_true = dist.Bernoulli(probs=0.7)"
   ]
  },
  {
   "cell_type": "code",
   "execution_count": 103,
   "metadata": {},
   "outputs": [
    {
     "data": {
      "text/plain": [
       "tensor([1., 1., 0., 1., 1., 0., 1., 0., 0., 0.])"
      ]
     },
     "execution_count": 103,
     "metadata": {},
     "output_type": "execute_result"
    }
   ],
   "source": [
    "N = 10\n",
    "dataset = weather_true.sample((N,))\n",
    "dataset"
   ]
  },
  {
   "cell_type": "code",
   "execution_count": 104,
   "metadata": {},
   "outputs": [],
   "source": [
    "# these values have highest prob at 0.7\n",
    "alpha = 2.0\n",
    "beta = 1.5 \n",
    "alpha_prime = alpha + torch.sum(dataset)\n",
    "beta_prime = beta + N - torch.sum(dataset)"
   ]
  },
  {
   "cell_type": "code",
   "execution_count": 105,
   "metadata": {},
   "outputs": [
    {
     "data": {
      "text/plain": [
       "tensor(7.)"
      ]
     },
     "execution_count": 105,
     "metadata": {},
     "output_type": "execute_result"
    }
   ],
   "source": [
    "alpha_prime"
   ]
  },
  {
   "cell_type": "code",
   "execution_count": 106,
   "metadata": {},
   "outputs": [
    {
     "data": {
      "text/plain": [
       "tensor(6.5000)"
      ]
     },
     "execution_count": 106,
     "metadata": {},
     "output_type": "execute_result"
    }
   ],
   "source": [
    "beta_prime"
   ]
  },
  {
   "cell_type": "code",
   "execution_count": 107,
   "metadata": {},
   "outputs": [],
   "source": [
    "theta_weather = dist.Beta(alpha_prime, beta_prime)\n",
    "sample = theta_weather.sample((1000000,))"
   ]
  },
  {
   "cell_type": "code",
   "execution_count": 108,
   "metadata": {},
   "outputs": [
    {
     "data": {
      "image/png": "[encoded data removed]",
      "text/plain": [
       "<Figure size 432x288 with 1 Axes>"
      ]
     },
     "metadata": {
      "needs_background": "light"
     },
     "output_type": "display_data"
    }
   ],
   "source": [
    "x = sample.detach().numpy()\n",
    "fig = plt.figure()\n",
    "ax = fig.add_subplot(111)\n",
    "n, bins, rectangles = ax.hist(x, 100, density=True)\n",
    "fig.canvas.draw()\n",
    "plt.show()"
   ]
  },
  {
   "cell_type": "markdown",
   "metadata": {},
   "source": [
    "# MAP for bernoulli"
   ]
  },
  {
   "cell_type": "code",
   "execution_count": 109,
   "metadata": {},
   "outputs": [
    {
     "data": {
      "text/plain": [
       "0.73"
      ]
     },
     "execution_count": 109,
     "metadata": {},
     "output_type": "execute_result"
    }
   ],
   "source": [
    "# set theta, which in reality we dont know\n",
    "theta_weather_true = 0.8\n",
    "\n",
    "weather = dist.Bernoulli(probs=0.8)\n",
    "dataset = weather.sample((100,))\n",
    "dataset = dataset.detach().numpy()\n",
    "theta_weather_mle = dataset.mean()\n",
    "theta_weather_mle"
   ]
  },
  {
   "cell_type": "markdown",
   "metadata": {},
   "source": [
    "As you can see, the MLE is off. This is due to the MLE being bound to the dataset.  \n",
    "With MAP we use 2 more parameters, alpha and beta.  \n",
    "Alpha and beta encode prior knowledge, this can for instance be influence on the location where we measure the weather.\n",
    "\n",
    "$$\n",
    "\\theta^*_{\\text{MAP}} = \\frac{\\sum(w_i + \\alpha - 1)}{N + \\alpha \\beta -2}\n",
    "$$"
   ]
  },
  {
   "cell_type": "code",
   "execution_count": 110,
   "metadata": {},
   "outputs": [],
   "source": [
    "alpha = 30\n",
    "beta = 10\n",
    "# narrow estimate because high numbers"
   ]
  },
  {
   "cell_type": "code",
   "execution_count": 111,
   "metadata": {},
   "outputs": [
    {
     "data": {
      "text/plain": [
       "0.7391304347826086"
      ]
     },
     "execution_count": 111,
     "metadata": {},
     "output_type": "execute_result"
    }
   ],
   "source": [
    "theta_weather_map = (dataset.sum() + alpha - 1.0)/(len(dataset) + alpha + beta - 2.0) \n",
    "theta_weather_map"
   ]
  },
  {
   "cell_type": "markdown",
   "metadata": {},
   "source": [
    "As you can see the MAP is closer to the theta_weather_true, because we also encode prior knowledge.\n",
    "To show this even better, let's use noise data"
   ]
  },
  {
   "cell_type": "code",
   "execution_count": 112,
   "metadata": {},
   "outputs": [],
   "source": [
    "dataset[:50] = 0\n"
   ]
  },
  {
   "cell_type": "code",
   "execution_count": 113,
   "metadata": {},
   "outputs": [
    {
     "data": {
      "text/plain": [
       "0.37"
      ]
     },
     "execution_count": 113,
     "metadata": {},
     "output_type": "execute_result"
    }
   ],
   "source": [
    "theta_weather_mle_corrupt = dataset.mean()\n",
    "theta_weather_mle_corrupt"
   ]
  },
  {
   "cell_type": "code",
   "execution_count": 114,
   "metadata": {},
   "outputs": [
    {
     "data": {
      "text/plain": [
       "0.4782608695652174"
      ]
     },
     "execution_count": 114,
     "metadata": {},
     "output_type": "execute_result"
    }
   ],
   "source": [
    "theta_weather_map_corrupt = (dataset.sum() + alpha - 1.0)/(len(dataset) + alpha + beta - 2.0) \n",
    "theta_weather_map_corrupt"
   ]
  },
  {
   "cell_type": "markdown",
   "metadata": {},
   "source": [
    "As we can see, MLE is further away than MAP."
   ]
  }
 ],
 "metadata": {
  "interpreter": {
   "hash": "4d4dce9d7226808f190f2bf308d6fa82873ce04af46d0901c689654b9cd5f0c8"
  },
  "kernelspec": {
   "display_name": "Python 3.9.7 ('pdl')",
   "language": "python",
   "name": "python3"
  },
  "language_info": {
   "codemirror_mode": {
    "name": "ipython",
    "version": 3
   },
   "file_extension": ".py",
   "mimetype": "text/x-python",
   "name": "python",
   "nbconvert_exporter": "python",
   "pygments_lexer": "ipython3",
   "version": "3.9.7"
  },
  "orig_nbformat": 4
 },
 "nbformat": 4,
 "nbformat_minor": 2
}
